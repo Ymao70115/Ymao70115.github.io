{
  "cells": [
    {
      "cell_type": "markdown",
      "metadata": {
        "id": "2JN4jOFvLv28"
      },
      "source": [
        "# Import "
      ]
    },
    {
      "cell_type": "code",
      "execution_count": null,
      "metadata": {
        "id": "BaKcD3DULv3K"
      },
      "outputs": [],
      "source": [
        "from google.colab import files\n",
        "import pandas as pd\n",
        "import numpy as np\n",
        "\n",
        "scores = []"
      ]
    },
    {
      "cell_type": "code",
      "execution_count": null,
      "metadata": {
        "colab": {
          "base_uri": "https://localhost:8080/",
          "height": 177,
          "resources": {
            "http://localhost:8080/nbextensions/google.colab/files.js": {
              "data": "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",
              "headers": [
                [
                  "content-type",
                  "application/javascript"
                ]
              ],
              "ok": true,
              "status": 200,
              "status_text": ""
            }
          }
        },
        "id": "wmDErhaJYeJi",
        "outputId": "d08ec894-0903-43f9-80f4-457838efac63"
      },
      "outputs": [
        {
          "output_type": "display_data",
          "data": {
            "text/html": [
              "\n",
              "     <input type=\"file\" id=\"files-1f3763af-d1fb-4f36-9ca2-ffe7b3bad1db\" name=\"files[]\" multiple disabled\n",
              "        style=\"border:none\" />\n",
              "     <output id=\"result-1f3763af-d1fb-4f36-9ca2-ffe7b3bad1db\">\n",
              "      Upload widget is only available when the cell has been executed in the\n",
              "      current browser session. Please rerun this cell to enable.\n",
              "      </output>\n",
              "      <script src=\"/nbextensions/google.colab/files.js\"></script> "
            ],
            "text/plain": [
              "<IPython.core.display.HTML object>"
            ]
          },
          "metadata": {}
        },
        {
          "output_type": "stream",
          "name": "stdout",
          "text": [
            "Saving Breast_cancer_data.csv to Breast_cancer_data.csv\n",
            "Saving Depression.csv to Depression.csv\n",
            "Saving Diabetes.csv to Diabetes.csv\n",
            "Saving Heart.csv to Heart.csv\n"
          ]
        }
      ],
      "source": [
        "# upload the dataset file (.csv)\n",
        "uploaded = files.upload()"
      ]
    },
    {
      "cell_type": "markdown",
      "metadata": {
        "id": "wg0zm-5k9wdR"
      },
      "source": [
        "# Processing data (Choose depression + 1 of 3 datasets)"
      ]
    },
    {
      "cell_type": "markdown",
      "metadata": {
        "id": "ROcPLG1SLv3K"
      },
      "source": [
        "## Depression data (Test)\n"
      ]
    },
    {
      "cell_type": "code",
      "execution_count": null,
      "metadata": {
        "colab": {
          "base_uri": "https://localhost:8080/"
        },
        "id": "9mgtDnAmLv3L",
        "outputId": "04abe6b2-fc93-4931-f485-8ca346117a27"
      },
      "outputs": [
        {
          "output_type": "stream",
          "name": "stdout",
          "text": [
            "1429 12\n"
          ]
        }
      ],
      "source": [
        "# use pd get the size of the dataset\n",
        "depression = pd.read_csv(\"Depression.csv\")\n",
        "\n",
        "# # of row, # of col\n",
        "print(len(depression.axes[0]), len(depression.axes[1]))\n"
      ]
    },
    {
      "cell_type": "code",
      "execution_count": null,
      "metadata": {
        "id": "j9LUhoQOLv3L"
      },
      "outputs": [],
      "source": [
        "# open the file and read the data\n",
        "f = open('Depression.csv', 'r')\n",
        "rawdata = f.read()\n",
        "f.close()\n",
        "\n",
        "# split the whole data(string) by \\n, and delete the first row(titlea)\n",
        "rawdata = rawdata.split(\"\\n\")\n",
        "rawdata = rawdata[1:100]\n",
        "rawdata = [r.split(',') for r in rawdata]\n",
        "# pop the last row, which is generated by split ','\n",
        "rawdata.pop()\n",
        "\n",
        "# store the features and labels by samples\n",
        "target_features = []\n",
        "target_label = []\n",
        "\n",
        "# store the overall data before split into features and labels\n",
        "sample = []\n",
        "\n",
        "# float or int is the only input format for NN\n",
        "for r in rawdata:\n",
        "    feature = [] \n",
        "    for c in r:\n",
        "      if c !='':\n",
        "        feature.append(float(c))\n",
        "      else:\n",
        "        feature.append(float(0))\n",
        "    sample.append(feature)\n",
        "\n",
        "\n",
        "target_features = np.array([x[:-1] for x in sample])\n",
        "target_label = np.array([x[-1] for x in sample])\n"
      ]
    },
    {
      "cell_type": "code",
      "execution_count": null,
      "metadata": {
        "colab": {
          "base_uri": "https://localhost:8080/"
        },
        "id": "-njr30q7Lv3L",
        "outputId": "1e722730-0a5b-4342-f724-505a05417842"
      },
      "outputs": [
        {
          "output_type": "stream",
          "name": "stdout",
          "text": [
            "(98, 11)\n",
            "98\n",
            "(98, 13)\n"
          ]
        }
      ],
      "source": [
        "x, y = target_features.shape\n",
        "print(target_features.shape)\n",
        "print(target_label.size)\n",
        "add_np = np.random.randint(2, size=(x,13-y))\n",
        "target_features = np.append(target_features, add_np, axis = 1)\n",
        "print(target_features.shape)"
      ]
    },
    {
      "cell_type": "markdown",
      "metadata": {
        "id": "IUYa6kckLv3L"
      },
      "source": [
        "## Diabetes data\n"
      ]
    },
    {
      "cell_type": "code",
      "execution_count": null,
      "metadata": {
        "id": "-fmzK7aRLv3M",
        "colab": {
          "base_uri": "https://localhost:8080/"
        },
        "outputId": "2fa3aac7-cdce-4fd6-dda2-d86ac8e85bb8"
      },
      "outputs": [
        {
          "output_type": "stream",
          "name": "stdout",
          "text": [
            "768 11\n"
          ]
        }
      ],
      "source": [
        "diabetes = pd.read_csv(\"Diabetes.csv\")\n",
        "\n",
        "print(len(diabetes.axes[0]), len(diabetes.axes[1]))\n"
      ]
    },
    {
      "cell_type": "code",
      "execution_count": null,
      "metadata": {
        "id": "zJH-1hHILv3M"
      },
      "outputs": [],
      "source": [
        "f = open('Diabetes.csv', 'r')\n",
        "rawdata = f.read()\n",
        "f.close()\n",
        "\n",
        "rawdata = rawdata.split(\"\\n\")\n",
        "rawdata = rawdata[1:]\n",
        "rawdata = [r.split(',') for r in rawdata]\n",
        "rawdata.pop()\n",
        "\n",
        "\n",
        "source_features = []\n",
        "source_label = []\n",
        "sample = []\n",
        "\n",
        "for r in rawdata:\n",
        "    feature = [] \n",
        "    for c in r:\n",
        "      if c !='':\n",
        "        feature.append(float(c))\n",
        "      else:\n",
        "        feature.append(float(0))\n",
        "    sample.append(feature)\n",
        "\n",
        "source_features = np.array([x[:-1] for x in sample])\n",
        "source_label = np.array([x[-1] for x in sample])\n",
        "\n"
      ]
    },
    {
      "cell_type": "code",
      "execution_count": null,
      "metadata": {
        "id": "FNyGD11-Lv3M",
        "colab": {
          "base_uri": "https://localhost:8080/"
        },
        "outputId": "72568e55-da49-4c04-fcdc-d339e870c40b"
      },
      "outputs": [
        {
          "output_type": "stream",
          "name": "stdout",
          "text": [
            "(768, 10)\n",
            "768\n",
            "(768, 13)\n"
          ]
        }
      ],
      "source": [
        "print(source_features.shape)\n",
        "print(source_label.size)\n",
        "x, y = source_features.shape\n",
        "add_np = np.random.randint(2, size=(x,13-y))\n",
        "source_features = np.append(source_features, add_np, axis = 1)\n",
        "print(source_features.shape)"
      ]
    },
    {
      "cell_type": "markdown",
      "metadata": {
        "id": "8BwIrEJhLv3M"
      },
      "source": [
        "## Heart data\n"
      ]
    },
    {
      "cell_type": "code",
      "execution_count": null,
      "metadata": {
        "colab": {
          "base_uri": "https://localhost:8080/"
        },
        "id": "9hFBhoulLv3N",
        "outputId": "a607f3a2-b3f4-497f-f0a0-686a3ac115b5"
      },
      "outputs": [
        {
          "output_type": "stream",
          "name": "stdout",
          "text": [
            "303 14\n"
          ]
        }
      ],
      "source": [
        "Heart = pd.read_csv(\"Heart.csv\")\n",
        "\n",
        "print(len(Heart.axes[0]), len(Heart.axes[1]))\n"
      ]
    },
    {
      "cell_type": "code",
      "execution_count": null,
      "metadata": {
        "id": "fstX9QzbLv3N"
      },
      "outputs": [],
      "source": [
        "f = open('Heart.csv', 'r')\n",
        "rawdata = f.read()\n",
        "f.close()\n",
        "\n",
        "rawdata = rawdata.split(\"\\n\")\n",
        "rawdata = rawdata[1:]\n",
        "rawdata = [r.split(',') for r in rawdata]\n",
        "rawdata.pop()\n",
        "\n",
        "source_features = []\n",
        "source_label = []\n",
        "sample = []\n",
        "\n",
        "for r in rawdata:\n",
        "    feature = [] \n",
        "    for c in r:\n",
        "      if c !='':\n",
        "        feature.append(float(c))\n",
        "    sample.append(feature)\n",
        "\n",
        "source_features = np.array([x[:-1] for x in sample])\n",
        "source_label = np.array([x[-1] for x in sample])"
      ]
    },
    {
      "cell_type": "code",
      "execution_count": null,
      "metadata": {
        "colab": {
          "base_uri": "https://localhost:8080/"
        },
        "id": "OfuJzE76Lv3N",
        "outputId": "90b50949-69dd-4528-a4a3-daac93f86ff9"
      },
      "outputs": [
        {
          "output_type": "stream",
          "name": "stdout",
          "text": [
            "(303, 13)\n",
            "303\n"
          ]
        }
      ],
      "source": [
        "print(source_features.shape)\n",
        "print(source_label.size)"
      ]
    },
    {
      "cell_type": "code",
      "execution_count": null,
      "metadata": {
        "colab": {
          "base_uri": "https://localhost:8080/"
        },
        "id": "50d8bfdHYxkT",
        "outputId": "fb152f4f-3eba-4a09-b245-462076400d75"
      },
      "outputs": [
        {
          "output_type": "stream",
          "name": "stdout",
          "text": [
            "(303, 13)\n"
          ]
        }
      ],
      "source": [
        "x, y = source_features.shape\n",
        "add_np = np.random.randint(2, size=(x,13-y))\n",
        "source_features = np.append(source_features, add_np, axis = 1)\n",
        "print(source_features.shape)"
      ]
    },
    {
      "cell_type": "markdown",
      "metadata": {
        "id": "rpyYN3mHLv3N"
      },
      "source": [
        "## Breast cancer data\n"
      ]
    },
    {
      "cell_type": "code",
      "execution_count": null,
      "metadata": {
        "colab": {
          "base_uri": "https://localhost:8080/"
        },
        "id": "XhODcQjmLv3N",
        "outputId": "59019b9e-4b97-4c3c-af56-6203ef7a3cfd"
      },
      "outputs": [
        {
          "output_type": "stream",
          "name": "stdout",
          "text": [
            "569 11\n"
          ]
        }
      ],
      "source": [
        "Breast = pd.read_csv(\"Breast_cancer_data.csv\")\n",
        "\n",
        "print(len(Breast.axes[0]), len(Breast.axes[1]))\n"
      ]
    },
    {
      "cell_type": "code",
      "execution_count": null,
      "metadata": {
        "id": "lbIyp94-Lv3O"
      },
      "outputs": [],
      "source": [
        "f = open('Breast_cancer_data.csv', 'r')\n",
        "rawdata = f.read()\n",
        "f.close()\n",
        "\n",
        "rawdata = rawdata.split(\"\\n\")\n",
        "rawdata = rawdata[1:]\n",
        "rawdata = [r.split(',') for r in rawdata]\n",
        "rawdata.pop()\n",
        "\n",
        "source_features = []\n",
        "source_label = []\n",
        "sample = []\n",
        "\n",
        "for r in rawdata:\n",
        "    feature = [] \n",
        "    for c in r:\n",
        "      if c !='':\n",
        "        feature.append(float(c))\n",
        "    sample.append(feature)\n",
        "\n",
        "source_features = np.array([x[:-1] for x in sample])\n",
        "source_label = np.array([x[-1] for x in sample])\n"
      ]
    },
    {
      "cell_type": "code",
      "execution_count": null,
      "metadata": {
        "colab": {
          "base_uri": "https://localhost:8080/"
        },
        "id": "641u29q9Lv3O",
        "outputId": "975f1547-c782-45df-a77d-87be69111625"
      },
      "outputs": [
        {
          "output_type": "stream",
          "name": "stdout",
          "text": [
            "(569, 10)\n",
            "569\n"
          ]
        }
      ],
      "source": [
        "print(source_features.shape)\n",
        "print(source_label.size)"
      ]
    },
    {
      "cell_type": "code",
      "execution_count": null,
      "metadata": {
        "colab": {
          "base_uri": "https://localhost:8080/"
        },
        "id": "VLDoywO4Y651",
        "outputId": "f7274eab-3de1-422a-ff10-fc6156eb613d"
      },
      "outputs": [
        {
          "output_type": "stream",
          "name": "stdout",
          "text": [
            "(569, 14)\n"
          ]
        }
      ],
      "source": [
        "x, y = source_features.shape\n",
        "add_np = np.random.randint(2, size=(x,14-y))\n",
        "source_features = np.append(source_features, add_np, axis = 1)\n",
        "print(source_features.shape)"
      ]
    },
    {
      "cell_type": "markdown",
      "source": [
        "## Depression data (Train)"
      ],
      "metadata": {
        "id": "ypR5jSMBDtp_"
      }
    },
    {
      "cell_type": "code",
      "execution_count": null,
      "metadata": {
        "colab": {
          "base_uri": "https://localhost:8080/"
        },
        "outputId": "9aefa011-23c4-4caa-8a41-14ec347eaaeb",
        "id": "STNN0XoYD4TI"
      },
      "outputs": [
        {
          "output_type": "stream",
          "name": "stdout",
          "text": [
            "1429 12\n"
          ]
        }
      ],
      "source": [
        "# use pd get the size of the dataset\n",
        "depression = pd.read_csv(\"Depression.csv\")\n",
        "\n",
        "# # of row, # of col\n",
        "print(len(depression.axes[0]), len(depression.axes[1]))\n"
      ]
    },
    {
      "cell_type": "code",
      "execution_count": null,
      "metadata": {
        "id": "fkw5KFTzD4TJ"
      },
      "outputs": [],
      "source": [
        "# open the file and read the data\n",
        "f = open('Depression.csv', 'r')\n",
        "rawdata = f.read()\n",
        "f.close()\n",
        "\n",
        "# split the whole data(string) by \\n, and delete the first row(titlea)\n",
        "rawdata = rawdata.split(\"\\n\")\n",
        "rawdata = rawdata[101:]\n",
        "rawdata = [r.split(',') for r in rawdata]\n",
        "# pop the last row, which is generated by split ','\n",
        "rawdata.pop()\n",
        "\n",
        "source_features = []\n",
        "source_label = []\n",
        "sample = []\n",
        "\n",
        "# float or int is the only input format for NN\n",
        "for r in rawdata:\n",
        "    feature = [] \n",
        "    for c in r:\n",
        "      if c !='':\n",
        "        feature.append(float(c))\n",
        "      else:\n",
        "        feature.append(float(0))\n",
        "    sample.append(feature)\n",
        "\n",
        "\n",
        "source_features = np.array([x[:-1] for x in sample])\n",
        "source_label = np.array([x[-1] for x in sample])\n"
      ]
    },
    {
      "cell_type": "code",
      "execution_count": null,
      "metadata": {
        "colab": {
          "base_uri": "https://localhost:8080/"
        },
        "outputId": "80d7aa41-bfc7-4515-a760-215b346b1f10",
        "id": "HST0YKU4D4TK"
      },
      "outputs": [
        {
          "output_type": "stream",
          "name": "stdout",
          "text": [
            "(1329, 11)\n",
            "1329\n",
            "(1329, 14)\n"
          ]
        }
      ],
      "source": [
        "x, y = source_features.shape\n",
        "print(source_features.shape)\n",
        "print(source_label.size)\n",
        "add_np = np.random.randint(2, size=(x,13-y))\n",
        "source_features = np.append(source_features, add_np, axis = 1)\n",
        "print(source_features.shape)"
      ]
    },
    {
      "cell_type": "markdown",
      "metadata": {
        "id": "HqY6P98Hj-9s"
      },
      "source": [
        "# Transfer learning"
      ]
    },
    {
      "cell_type": "code",
      "execution_count": null,
      "metadata": {
        "id": "ymw9-ypDkBzO"
      },
      "outputs": [],
      "source": [
        "# Libraries\n",
        "import tensorflow as tf\n",
        "from tensorflow import keras\n",
        "import matplotlib.pyplot as plt\n",
        "%matplotlib inline\n",
        "import numpy as np\n",
        "from tensorflow.keras import layers\n",
        "from sklearn.model_selection import RepeatedKFold\n",
        "from sklearn.linear_model import LogisticRegression"
      ]
    },
    {
      "cell_type": "code",
      "execution_count": null,
      "metadata": {
        "colab": {
          "base_uri": "https://localhost:8080/"
        },
        "id": "kVljSxCtkBzP",
        "outputId": "051b0c54-fe98-415a-ada3-aa7f5ac20b51"
      },
      "outputs": [
        {
          "output_type": "stream",
          "name": "stdout",
          "text": [
            "Model: \"sequential_1\"\n",
            "_________________________________________________________________\n",
            " Layer (type)                Output Shape              Param #   \n",
            "=================================================================\n",
            " Hid_1 (Dense)               (None, 20)                280       \n",
            "                                                                 \n",
            " Hid_2 (Dense)               (None, 15)                315       \n",
            "                                                                 \n",
            " Hid_3 (Dense)               (None, 10)                160       \n",
            "                                                                 \n",
            " output (Dense)              (None, 2)                 22        \n",
            "                                                                 \n",
            "=================================================================\n",
            "Total params: 777\n",
            "Trainable params: 777\n",
            "Non-trainable params: 0\n",
            "_________________________________________________________________\n"
          ]
        }
      ],
      "source": [
        "model = keras.Sequential()\n",
        "# input diabetes data\n",
        "model.add(keras.Input(shape = (13,), name='input'))\n",
        "model.add(layers.Dense(20,activation='relu', name='Hid_1'))\n",
        "model.add(layers.Dense(15,activation='relu', name='Hid_2'))\n",
        "model.add(layers.Dense(10,activation='relu', name='Hid_3'))\n",
        "model.add(layers.Dense(2,activation='sigmoid', name='output'))\n",
        "\n",
        "model.summary()"
      ]
    },
    {
      "cell_type": "code",
      "execution_count": null,
      "metadata": {
        "colab": {
          "base_uri": "https://localhost:8080/"
        },
        "id": "QRpTyqiXkBzP",
        "outputId": "246d8c84-9da6-4773-8aeb-21b7597c379d"
      },
      "outputs": [
        {
          "output_type": "stream",
          "name": "stdout",
          "text": [
            "Epoch 1/10\n",
            "24/24 [==============================] - 1s 2ms/step - loss: 2.2361 - accuracy: 0.5169\n",
            "Epoch 2/10\n",
            "24/24 [==============================] - 0s 2ms/step - loss: 0.9066 - accuracy: 0.6250\n",
            "Epoch 3/10\n",
            "24/24 [==============================] - 0s 2ms/step - loss: 0.7843 - accuracy: 0.6523\n",
            "Epoch 4/10\n",
            "24/24 [==============================] - 0s 2ms/step - loss: 0.6997 - accuracy: 0.6602\n",
            "Epoch 5/10\n",
            "24/24 [==============================] - 0s 2ms/step - loss: 0.6539 - accuracy: 0.6654\n",
            "Epoch 6/10\n",
            "24/24 [==============================] - 0s 2ms/step - loss: 0.6387 - accuracy: 0.6693\n",
            "Epoch 7/10\n",
            "24/24 [==============================] - 0s 2ms/step - loss: 0.6419 - accuracy: 0.6602\n",
            "Epoch 8/10\n",
            "24/24 [==============================] - 0s 2ms/step - loss: 0.6202 - accuracy: 0.6810\n",
            "Epoch 9/10\n",
            "24/24 [==============================] - 0s 3ms/step - loss: 0.6051 - accuracy: 0.6849\n",
            "Epoch 10/10\n",
            "24/24 [==============================] - 0s 3ms/step - loss: 0.5849 - accuracy: 0.6966\n"
          ]
        },
        {
          "output_type": "execute_result",
          "data": {
            "text/plain": [
              "<keras.callbacks.History at 0x7f1a2d1db590>"
            ]
          },
          "metadata": {},
          "execution_count": 50
        }
      ],
      "source": [
        "model.compile(\n",
        "    optimizer='adam',\n",
        "    loss='sparse_categorical_crossentropy',\n",
        "    metrics=['accuracy']\n",
        ")\n",
        "\n",
        "model.fit(source_features, source_label, epochs=10)"
      ]
    },
    {
      "cell_type": "code",
      "execution_count": null,
      "metadata": {
        "colab": {
          "base_uri": "https://localhost:8080/"
        },
        "id": "fz4ChAVHkBzQ",
        "outputId": "56d2ab41-d185-49d5-d7d4-8649089cc1d3"
      },
      "outputs": [
        {
          "output_type": "stream",
          "name": "stdout",
          "text": [
            "20/20 [==============================] - 0s 4ms/step - loss: 0.5798 - accuracy: 0.6906\n",
            "5/5 [==============================] - 0s 4ms/step - loss: 0.6203 - accuracy: 0.6623\n",
            "20/20 [==============================] - 0s 3ms/step - loss: 0.5862 - accuracy: 0.6889\n",
            "5/5 [==============================] - 0s 5ms/step - loss: 0.5407 - accuracy: 0.7078\n",
            "20/20 [==============================] - 0s 3ms/step - loss: 0.6212 - accuracy: 0.6612\n",
            "5/5 [==============================] - 0s 4ms/step - loss: 0.5243 - accuracy: 0.7273\n",
            "20/20 [==============================] - 0s 3ms/step - loss: 0.5635 - accuracy: 0.6943\n",
            "5/5 [==============================] - 0s 4ms/step - loss: 0.6063 - accuracy: 0.6993\n",
            "20/20 [==============================] - 0s 3ms/step - loss: 0.5677 - accuracy: 0.7138\n",
            "5/5 [==============================] - 0s 4ms/step - loss: 0.6207 - accuracy: 0.6732\n",
            "20/20 [==============================] - 0s 3ms/step - loss: 0.5970 - accuracy: 0.6889\n",
            "5/5 [==============================] - 0s 4ms/step - loss: 0.5241 - accuracy: 0.7338\n",
            "20/20 [==============================] - 0s 3ms/step - loss: 0.5840 - accuracy: 0.6922\n",
            "5/5 [==============================] - 0s 4ms/step - loss: 0.5742 - accuracy: 0.7338\n",
            "20/20 [==============================] - 0s 4ms/step - loss: 0.5607 - accuracy: 0.7296\n",
            "5/5 [==============================] - 0s 4ms/step - loss: 0.5712 - accuracy: 0.6818\n",
            "20/20 [==============================] - 0s 3ms/step - loss: 0.5438 - accuracy: 0.7138\n",
            "5/5 [==============================] - 0s 5ms/step - loss: 0.6434 - accuracy: 0.6536\n",
            "20/20 [==============================] - 0s 3ms/step - loss: 0.5753 - accuracy: 0.6927\n",
            "5/5 [==============================] - 0s 4ms/step - loss: 0.5303 - accuracy: 0.7124\n",
            "20/20 [==============================] - 0s 3ms/step - loss: 0.5494 - accuracy: 0.7329\n",
            "5/5 [==============================] - 0s 4ms/step - loss: 0.5679 - accuracy: 0.7013\n",
            "20/20 [==============================] - 0s 3ms/step - loss: 0.5493 - accuracy: 0.7199\n",
            "5/5 [==============================] - 0s 4ms/step - loss: 0.5948 - accuracy: 0.6883\n",
            "20/20 [==============================] - 0s 3ms/step - loss: 0.5730 - accuracy: 0.7117\n",
            "5/5 [==============================] - 0s 4ms/step - loss: 0.6019 - accuracy: 0.6753\n",
            "20/20 [==============================] - 0s 3ms/step - loss: 0.5628 - accuracy: 0.7138\n",
            "5/5 [==============================] - 0s 4ms/step - loss: 0.5352 - accuracy: 0.7190\n",
            "20/20 [==============================] - 0s 2ms/step - loss: 0.5379 - accuracy: 0.7285\n",
            "5/5 [==============================] - 0s 4ms/step - loss: 0.5908 - accuracy: 0.7124\n",
            "20/20 [==============================] - 0s 3ms/step - loss: 0.5418 - accuracy: 0.7313\n",
            "5/5 [==============================] - 0s 4ms/step - loss: 0.5533 - accuracy: 0.7208\n",
            "20/20 [==============================] - 0s 3ms/step - loss: 0.5348 - accuracy: 0.7410\n",
            "5/5 [==============================] - 0s 4ms/step - loss: 0.6232 - accuracy: 0.6429\n",
            "20/20 [==============================] - 0s 3ms/step - loss: 0.5573 - accuracy: 0.7264\n",
            "5/5 [==============================] - 0s 4ms/step - loss: 0.5371 - accuracy: 0.7208\n",
            "20/20 [==============================] - 0s 3ms/step - loss: 0.5844 - accuracy: 0.6992\n",
            "5/5 [==============================] - 0s 4ms/step - loss: 0.5244 - accuracy: 0.7320\n",
            "20/20 [==============================] - 0s 3ms/step - loss: 0.5786 - accuracy: 0.6927\n",
            "5/5 [==============================] - 0s 4ms/step - loss: 0.5960 - accuracy: 0.6536\n",
            "20/20 [==============================] - 0s 4ms/step - loss: 0.5429 - accuracy: 0.7101\n",
            "5/5 [==============================] - 0s 5ms/step - loss: 0.6267 - accuracy: 0.6688\n",
            "20/20 [==============================] - 0s 2ms/step - loss: 0.5609 - accuracy: 0.7052\n",
            "5/5 [==============================] - 0s 5ms/step - loss: 0.5124 - accuracy: 0.7532\n",
            "20/20 [==============================] - 0s 3ms/step - loss: 0.5647 - accuracy: 0.7052\n",
            "5/5 [==============================] - 0s 4ms/step - loss: 0.5718 - accuracy: 0.7468\n",
            "20/20 [==============================] - 0s 4ms/step - loss: 0.5452 - accuracy: 0.7073\n",
            "5/5 [==============================] - 0s 4ms/step - loss: 0.6278 - accuracy: 0.6536\n",
            "20/20 [==============================] - 0s 3ms/step - loss: 0.5776 - accuracy: 0.6878\n",
            "5/5 [==============================] - 0s 4ms/step - loss: 0.5211 - accuracy: 0.7124\n",
            "20/20 [==============================] - 0s 3ms/step - loss: 0.5470 - accuracy: 0.7150\n",
            "5/5 [==============================] - 0s 4ms/step - loss: 0.6307 - accuracy: 0.6558\n",
            "20/20 [==============================] - 0s 2ms/step - loss: 0.5325 - accuracy: 0.7378\n",
            "5/5 [==============================] - 0s 4ms/step - loss: 0.6320 - accuracy: 0.6623\n",
            "20/20 [==============================] - 0s 2ms/step - loss: 0.5428 - accuracy: 0.7394\n",
            "5/5 [==============================] - 0s 6ms/step - loss: 0.5322 - accuracy: 0.7143\n",
            "20/20 [==============================] - 0s 3ms/step - loss: 0.5577 - accuracy: 0.7106\n",
            "5/5 [==============================] - 0s 4ms/step - loss: 0.5420 - accuracy: 0.7190\n",
            "20/20 [==============================] - 0s 3ms/step - loss: 0.6002 - accuracy: 0.6715\n",
            "5/5 [==============================] - 0s 4ms/step - loss: 0.5199 - accuracy: 0.7647\n",
            "20/20 [==============================] - 0s 3ms/step - loss: 0.5558 - accuracy: 0.7068\n",
            "5/5 [==============================] - 0s 4ms/step - loss: 0.5068 - accuracy: 0.7727\n",
            "20/20 [==============================] - 0s 3ms/step - loss: 0.5232 - accuracy: 0.7557\n",
            "5/5 [==============================] - 0s 5ms/step - loss: 0.6390 - accuracy: 0.6818\n",
            "20/20 [==============================] - 0s 3ms/step - loss: 0.5881 - accuracy: 0.6857\n",
            "5/5 [==============================] - 0s 4ms/step - loss: 0.6435 - accuracy: 0.6429\n",
            "20/20 [==============================] - 0s 3ms/step - loss: 0.5728 - accuracy: 0.7024\n",
            "5/5 [==============================] - 0s 4ms/step - loss: 0.4927 - accuracy: 0.7647\n",
            "20/20 [==============================] - 0s 3ms/step - loss: 0.5227 - accuracy: 0.7447\n",
            "5/5 [==============================] - 0s 4ms/step - loss: 0.5785 - accuracy: 0.6536\n",
            "20/20 [==============================] - 0s 3ms/step - loss: 0.5200 - accuracy: 0.7476\n",
            "5/5 [==============================] - 0s 4ms/step - loss: 0.5421 - accuracy: 0.7013\n",
            "20/20 [==============================] - 0s 4ms/step - loss: 0.5332 - accuracy: 0.7378\n",
            "5/5 [==============================] - 0s 4ms/step - loss: 0.5430 - accuracy: 0.7078\n",
            "20/20 [==============================] - 0s 3ms/step - loss: 0.5253 - accuracy: 0.7508\n",
            "5/5 [==============================] - 0s 5ms/step - loss: 0.5584 - accuracy: 0.7078\n",
            "20/20 [==============================] - 0s 3ms/step - loss: 0.5288 - accuracy: 0.7366\n",
            "5/5 [==============================] - 0s 4ms/step - loss: 0.4974 - accuracy: 0.7778\n",
            "20/20 [==============================] - 0s 3ms/step - loss: 0.5279 - accuracy: 0.7333\n",
            "5/5 [==============================] - 0s 4ms/step - loss: 0.4910 - accuracy: 0.7778\n",
            "20/20 [==============================] - 0s 4ms/step - loss: 0.5267 - accuracy: 0.7394\n",
            "5/5 [==============================] - 0s 4ms/step - loss: 0.5121 - accuracy: 0.7403\n",
            "20/20 [==============================] - 0s 2ms/step - loss: 0.5238 - accuracy: 0.7313\n",
            "5/5 [==============================] - 0s 6ms/step - loss: 0.6034 - accuracy: 0.6883\n",
            "20/20 [==============================] - 0s 3ms/step - loss: 0.5181 - accuracy: 0.7410\n",
            "5/5 [==============================] - 0s 4ms/step - loss: 0.5374 - accuracy: 0.7273\n",
            "20/20 [==============================] - 0s 2ms/step - loss: 0.5346 - accuracy: 0.7106\n",
            "5/5 [==============================] - 0s 5ms/step - loss: 0.5048 - accuracy: 0.7386\n",
            "20/20 [==============================] - 0s 3ms/step - loss: 0.5280 - accuracy: 0.7350\n",
            "5/5 [==============================] - 0s 4ms/step - loss: 0.5323 - accuracy: 0.7320\n",
            "20/20 [==============================] - 0s 3ms/step - loss: 0.5352 - accuracy: 0.7410\n",
            "5/5 [==============================] - 0s 4ms/step - loss: 0.5201 - accuracy: 0.7208\n",
            "20/20 [==============================] - 0s 3ms/step - loss: 0.5496 - accuracy: 0.7248\n",
            "5/5 [==============================] - 0s 4ms/step - loss: 0.5527 - accuracy: 0.7403\n",
            "20/20 [==============================] - 0s 3ms/step - loss: 0.5147 - accuracy: 0.7492\n",
            "5/5 [==============================] - 0s 4ms/step - loss: 0.5344 - accuracy: 0.7403\n",
            "20/20 [==============================] - 0s 3ms/step - loss: 0.5129 - accuracy: 0.7333\n",
            "5/5 [==============================] - 0s 4ms/step - loss: 0.5548 - accuracy: 0.6993\n",
            "20/20 [==============================] - 0s 3ms/step - loss: 0.5116 - accuracy: 0.7333\n",
            "5/5 [==============================] - 0s 4ms/step - loss: 0.4974 - accuracy: 0.7451\n"
          ]
        }
      ],
      "source": [
        "accurary_train = []\n",
        "accurary_test = []\n",
        "sample_train = []\n",
        "sample_test = []\n",
        "label_train = []\n",
        "label_test = []\n",
        "\n",
        "# default value split into 5 folders and repeat 10 times\n",
        "CV = RepeatedKFold()\n",
        "\n",
        "for train_index, test_index in CV.split(source_features):\n",
        "  sample_train,sample_test = source_features[train_index],source_features[test_index]\n",
        "  label_train, label_test = source_label[train_index],source_label[test_index]\n",
        "  accurary_train.append(model.fit(sample_train, label_train))\n",
        "  accurary_test.append(model.fit(sample_test, label_test))"
      ]
    },
    {
      "cell_type": "code",
      "execution_count": null,
      "metadata": {
        "colab": {
          "base_uri": "https://localhost:8080/"
        },
        "id": "GE4ZPn11kBzR",
        "outputId": "553f550d-3a31-4fc1-dc8c-426c5db43036"
      },
      "outputs": [
        {
          "output_type": "stream",
          "name": "stdout",
          "text": [
            "4/4 [==============================] - 0s 3ms/step - loss: 0.7405 - accuracy: 0.5612\n"
          ]
        },
        {
          "output_type": "execute_result",
          "data": {
            "text/plain": [
              "0.5612244606018066"
            ]
          },
          "metadata": {},
          "execution_count": 52
        }
      ],
      "source": [
        "#LR.fit(target_features,target_label)\n",
        "loss, accuracy = model.evaluate(target_features, target_label)\n",
        "accuracy"
      ]
    },
    {
      "cell_type": "code",
      "execution_count": null,
      "metadata": {
        "colab": {
          "base_uri": "https://localhost:8080/"
        },
        "id": "zjuRQxphkBzR",
        "outputId": "01f2db64-970a-4d60-f511-41ee5fd946c7"
      },
      "outputs": [
        {
          "output_type": "stream",
          "name": "stdout",
          "text": [
            "[0. 1. 0. 0. 0. 0. 1. 0. 0. 0. 1. 0. 0. 0. 1. 0. 0. 0. 0. 0. 1. 1. 0. 1.\n",
            " 1. 0. 0. 0. 0. 0. 0. 0. 0. 0. 0. 0. 0. 0. 0. 1. 0. 0. 1. 0. 0. 0. 0. 1.\n",
            " 1. 1. 0. 0. 0. 0. 0. 0. 0. 0. 0. 0. 1. 0. 0. 0. 0. 0. 0. 0. 1. 1. 0. 0.\n",
            " 1. 1. 1. 0. 0. 1. 0. 0. 0. 1. 0. 1. 0. 0. 1. 0. 0. 1. 0. 0. 1. 0. 0. 0.\n",
            " 0. 1.]\n",
            "[[0.77980375 0.7783916 ]\n",
            " [0.77276933 0.70521384]\n",
            " [0.7668694  0.679341  ]\n",
            " [0.7562368  0.70020306]\n",
            " [0.81286967 0.95034873]\n",
            " [0.78436255 0.8671342 ]\n",
            " [0.7747756  0.7623066 ]\n",
            " [0.75233144 0.63065535]\n",
            " [0.79958713 0.8905959 ]\n",
            " [0.7781118  0.7814836 ]\n",
            " [0.846509   0.9902331 ]\n",
            " [0.79551095 0.93467975]\n",
            " [0.79638994 0.8674325 ]\n",
            " [0.7694248  0.75905347]\n",
            " [0.7906344  0.91238374]\n",
            " [0.7571513  0.6810651 ]\n",
            " [0.760159   0.71176076]\n",
            " [0.7975813  0.90114   ]\n",
            " [0.78204966 0.80536   ]\n",
            " [0.75823426 0.6990392 ]\n",
            " [0.7914165  0.8464956 ]\n",
            " [0.79440236 0.9126432 ]\n",
            " [0.77546275 0.808066  ]\n",
            " [0.81239355 0.92694557]\n",
            " [0.80614775 0.9200815 ]\n",
            " [0.7664515  0.7453525 ]\n",
            " [0.8151207  0.9420956 ]\n",
            " [0.7633615  0.7104957 ]\n",
            " [0.76920176 0.6826868 ]\n",
            " [0.78793263 0.84729457]\n",
            " [0.7770795  0.7551602 ]\n",
            " [0.78259593 0.87513447]\n",
            " [0.800867   0.8935789 ]\n",
            " [0.75643337 0.6347554 ]\n",
            " [0.76884687 0.75108206]\n",
            " [0.77138674 0.75113255]\n",
            " [0.76132953 0.7069416 ]\n",
            " [0.77811944 0.7605138 ]\n",
            " [0.7583363  0.766425  ]\n",
            " [0.7919911  0.8919641 ]\n",
            " [0.76421595 0.6712104 ]\n",
            " [0.8032886  0.9144975 ]\n",
            " [0.76838034 0.6599144 ]\n",
            " [0.73596954 0.5662196 ]\n",
            " [0.7917103  0.88020766]\n",
            " [0.77062404 0.690164  ]\n",
            " [0.7520946  0.64566267]\n",
            " [0.77891636 0.7572745 ]\n",
            " [0.7896904  0.86711764]\n",
            " [0.7446126  0.6906346 ]\n",
            " [0.76853555 0.75777745]\n",
            " [0.73623407 0.5403087 ]\n",
            " [0.78605336 0.82322633]\n",
            " [0.8158107  0.93958086]\n",
            " [0.7847062  0.813284  ]\n",
            " [0.74460554 0.5754595 ]\n",
            " [0.7617064  0.72402924]\n",
            " [0.7782439  0.7988112 ]\n",
            " [0.755355   0.8519939 ]\n",
            " [0.7632788  0.62653255]\n",
            " [0.8007312  0.9222655 ]\n",
            " [0.7674838  0.7579607 ]\n",
            " [0.7202525  0.5625885 ]\n",
            " [0.7808614  0.8406515 ]\n",
            " [0.7846411  0.86755013]\n",
            " [0.76520044 0.67731965]\n",
            " [0.76988316 0.73963565]\n",
            " [0.80144113 0.9025754 ]\n",
            " [0.75899774 0.72166497]\n",
            " [0.74818385 0.6043618 ]\n",
            " [0.7932027  0.88598716]\n",
            " [0.7714459  0.81292725]\n",
            " [0.77205986 0.79066277]\n",
            " [0.77024865 0.655287  ]\n",
            " [0.7991401  0.8696602 ]\n",
            " [0.75755405 0.6554568 ]\n",
            " [0.7849498  0.84213626]\n",
            " [0.792963   0.89107704]\n",
            " [0.772789   0.78766465]\n",
            " [0.77932584 0.7785026 ]\n",
            " [0.80802    0.92878854]\n",
            " [0.7367904  0.65137047]\n",
            " [0.7569595  0.71038204]\n",
            " [0.76436573 0.67393064]\n",
            " [0.81396836 0.93731475]\n",
            " [0.7948657  0.8878399 ]\n",
            " [0.8018473  0.9012362 ]\n",
            " [0.7589524  0.75829625]\n",
            " [0.77276933 0.70521384]\n",
            " [0.77861005 0.816329  ]\n",
            " [0.7677058  0.6841035 ]\n",
            " [0.8230903  0.95798814]\n",
            " [0.79982305 0.8696197 ]\n",
            " [0.76646185 0.6924759 ]\n",
            " [0.7681227  0.8262093 ]\n",
            " [0.7636401  0.66001487]\n",
            " [0.75828964 0.7003111 ]\n",
            " [0.7760099  0.78919643]]\n"
          ]
        }
      ],
      "source": [
        "# Extract vectors and apply kmeans\n",
        "print(target_label)\n",
        "output = model.predict(target_features)\n",
        "print(output)\n"
      ]
    },
    {
      "cell_type": "code",
      "execution_count": null,
      "metadata": {
        "colab": {
          "base_uri": "https://localhost:8080/",
          "height": 423
        },
        "id": "7y5quU51kBzS",
        "outputId": "1116566e-8682-4079-b373-a983377aa88a"
      },
      "outputs": [
        {
          "output_type": "execute_result",
          "data": {
            "text/html": [
              "<div>\n",
              "<style scoped>\n",
              "    .dataframe tbody tr th:only-of-type {\n",
              "        vertical-align: middle;\n",
              "    }\n",
              "\n",
              "    .dataframe tbody tr th {\n",
              "        vertical-align: top;\n",
              "    }\n",
              "\n",
              "    .dataframe thead th {\n",
              "        text-align: right;\n",
              "    }\n",
              "</style>\n",
              "<table border=\"1\" class=\"dataframe\">\n",
              "  <thead>\n",
              "    <tr style=\"text-align: right;\">\n",
              "      <th></th>\n",
              "      <th>transfer_depression_0</th>\n",
              "      <th>transfer_depression_1</th>\n",
              "      <th>transfer_output</th>\n",
              "    </tr>\n",
              "  </thead>\n",
              "  <tbody>\n",
              "    <tr>\n",
              "      <th>0</th>\n",
              "      <td>0.779804</td>\n",
              "      <td>0.778392</td>\n",
              "      <td>0</td>\n",
              "    </tr>\n",
              "    <tr>\n",
              "      <th>1</th>\n",
              "      <td>0.772769</td>\n",
              "      <td>0.705214</td>\n",
              "      <td>0</td>\n",
              "    </tr>\n",
              "    <tr>\n",
              "      <th>2</th>\n",
              "      <td>0.766869</td>\n",
              "      <td>0.679341</td>\n",
              "      <td>0</td>\n",
              "    </tr>\n",
              "    <tr>\n",
              "      <th>3</th>\n",
              "      <td>0.756237</td>\n",
              "      <td>0.700203</td>\n",
              "      <td>0</td>\n",
              "    </tr>\n",
              "    <tr>\n",
              "      <th>4</th>\n",
              "      <td>0.812870</td>\n",
              "      <td>0.950349</td>\n",
              "      <td>1</td>\n",
              "    </tr>\n",
              "    <tr>\n",
              "      <th>...</th>\n",
              "      <td>...</td>\n",
              "      <td>...</td>\n",
              "      <td>...</td>\n",
              "    </tr>\n",
              "    <tr>\n",
              "      <th>93</th>\n",
              "      <td>0.766462</td>\n",
              "      <td>0.692476</td>\n",
              "      <td>0</td>\n",
              "    </tr>\n",
              "    <tr>\n",
              "      <th>94</th>\n",
              "      <td>0.768123</td>\n",
              "      <td>0.826209</td>\n",
              "      <td>1</td>\n",
              "    </tr>\n",
              "    <tr>\n",
              "      <th>95</th>\n",
              "      <td>0.763640</td>\n",
              "      <td>0.660015</td>\n",
              "      <td>0</td>\n",
              "    </tr>\n",
              "    <tr>\n",
              "      <th>96</th>\n",
              "      <td>0.758290</td>\n",
              "      <td>0.700311</td>\n",
              "      <td>0</td>\n",
              "    </tr>\n",
              "    <tr>\n",
              "      <th>97</th>\n",
              "      <td>0.776010</td>\n",
              "      <td>0.789196</td>\n",
              "      <td>1</td>\n",
              "    </tr>\n",
              "  </tbody>\n",
              "</table>\n",
              "<p>98 rows × 3 columns</p>\n",
              "</div>"
            ],
            "text/plain": [
              "    transfer_depression_0  transfer_depression_1  transfer_output\n",
              "0                0.779804               0.778392                0\n",
              "1                0.772769               0.705214                0\n",
              "2                0.766869               0.679341                0\n",
              "3                0.756237               0.700203                0\n",
              "4                0.812870               0.950349                1\n",
              "..                    ...                    ...              ...\n",
              "93               0.766462               0.692476                0\n",
              "94               0.768123               0.826209                1\n",
              "95               0.763640               0.660015                0\n",
              "96               0.758290               0.700311                0\n",
              "97               0.776010               0.789196                1\n",
              "\n",
              "[98 rows x 3 columns]"
            ]
          },
          "metadata": {},
          "execution_count": 54
        }
      ],
      "source": [
        "output = np.array(output)\n",
        "data = pd.DataFrame(output, columns = ['transfer_depression_0','transfer_depression_1'])\n",
        "data['transfer_output'] = np.argmax(output,axis=1)\n",
        "data"
      ]
    },
    {
      "cell_type": "code",
      "execution_count": null,
      "metadata": {
        "id": "pZ-QygIYkBzS"
      },
      "outputs": [],
      "source": [
        "import os\n",
        "data.to_csv('depression_kmeans.csv')\n"
      ]
    },
    {
      "cell_type": "markdown",
      "metadata": {
        "id": "ot2bR77SZ_1m"
      },
      "source": [
        "# Parallel K-means"
      ]
    },
    {
      "cell_type": "code",
      "execution_count": null,
      "metadata": {
        "colab": {
          "base_uri": "https://localhost:8080/"
        },
        "id": "jh8atR36aMAq",
        "outputId": "72bf2d0c-43be-4773-b500-96853548f6fb"
      },
      "outputs": [
        {
          "output_type": "stream",
          "name": "stdout",
          "text": [
            "Requirement already satisfied: mpi4py in /usr/local/lib/python3.7/dist-packages (3.1.3)\n"
          ]
        }
      ],
      "source": [
        "import math\n",
        "import csv\n",
        "import time\n",
        "import numpy as np\n",
        "import collections\n",
        "!pip install mpi4py\n",
        "from mpi4py import MPI\n",
        "from sklearn.cluster import KMeans\n",
        "from sklearn.metrics.cluster import adjusted_rand_score\n"
      ]
    },
    {
      "cell_type": "code",
      "execution_count": null,
      "metadata": {
        "id": "ygXqBKqKaQNn"
      },
      "outputs": [],
      "source": [
        "# Devide data set to further scattering\n",
        "def chunkIt(seq, num):\n",
        "    avg = len(seq) / float(num)\n",
        "    out = []\n",
        "    last = 0.0\n",
        "\n",
        "    while last < len(seq):\n",
        "        out.append(seq[int(last):int(last + avg)])\n",
        "        last += avg\n",
        "    return out\n",
        "# Count lables for recalculating means of centroids \t\n",
        "def addCounter(counter1, counter2, datatype):\n",
        "    for item in counter2:\n",
        "        counter1[item] += counter2[item]\n",
        "    return counter1\n",
        "\n",
        "comm = MPI.COMM_WORLD\n",
        "size = comm.Get_size()\n",
        "rank = comm.Get_rank()"
      ]
    },
    {
      "cell_type": "code",
      "execution_count": null,
      "metadata": {
        "id": "0ZMRTcEw1CQn",
        "colab": {
          "base_uri": "https://localhost:8080/"
        },
        "outputId": "9307068a-e465-4106-9970-ed8bb8ed1dc1"
      },
      "outputs": [
        {
          "output_type": "stream",
          "name": "stdout",
          "text": [
            "final clust vect [2, 2, 2, 2, 1, 1, 2, 2, 1, 1, 1, 1, 1, 2, 1, 2, 2, 1, 1, 2, 1, 1, 1, 1, 1, 2, 1, 2, 2, 1, 2, 1, 1, 2, 2, 2, 2, 2, 1, 1, 2, 1, 2, 2, 1, 2, 2, 2, 1, 2, 2, 2, 1, 1, 1, 2, 2, 1, 1, 2, 1, 2, 2, 1, 1, 2, 2, 1, 2, 2, 1, 1, 1, 2, 1, 2, 1, 1, 1, 2, 1, 2, 2, 2, 1, 1, 1, 2, 2, 1, 2, 1, 1, 2, 1, 2, 2, 1]\n",
            "libkms clust vect [1 1 1 1 0 0 1 1 0 0 0 0 0 1 0 1 1 0 0 1 0 0 0 0 0 1 0 1 1 0 1 0 0 1 1 1 1\n",
            " 1 0 0 1 0 1 1 0 1 1 1 0 1 1 1 0 0 0 1 1 0 0 1 0 1 1 0 0 1 1 0 1 1 0 0 0 1\n",
            " 0 1 0 0 0 1 0 1 1 1 0 0 0 1 1 0 1 0 0 1 0 1 1 0]\n"
          ]
        }
      ],
      "source": [
        "\n",
        "global dimensions, num_clusters, num_points,dimensions,data,flag\n",
        "num_clusters=0\n",
        "\n",
        "if rank==0: \t\t\t\t\t\t\t\t\t\t\t\t\t#master part\t\t\t\t\t\t\t\t\t\n",
        "\tnum_clusters = int(2)\n",
        "\tstart_time = time.time() \n",
        " \n",
        "\twith open('depression_kmeans.csv','r') as f:\n",
        "\t\treader = csv.reader(f)\n",
        "\t\tdata = list(reader)\n",
        "\t\t\n",
        "\tdata.pop(0)\n",
        "\tfor i in range (len(data)):\n",
        "\t\tdata[i].pop(0)\n",
        "\tdata=data[0:]\n",
        "\tdata=np.array(data).astype(np.float)\n",
        "\n",
        "\tkmeans = KMeans(n_clusters=num_clusters, random_state=0).fit(data).labels_\n",
        "\t\n",
        "\t# Initialize centroids matrix\n",
        "\tinitial=[]\n",
        "\tfor i in range(num_clusters):\n",
        "\t\tinitial.append(data[i])\n",
        "\tinitial=np.vstack(initial)\n",
        "\n",
        "\t#number of rows\n",
        "\tnum_points = len(data)  \n",
        "  #number of columns                                  \n",
        "\tdimensions = len(data[0])   \n",
        "\n",
        "\t# deviding data set on parts for further scattering\n",
        "\tchunks=chunkIt(data,size)\t\t\t\t\t\t\t\t  \n",
        "\n",
        "#workers part\n",
        "#initilize variable\n",
        "else:\t\t\t\t\t\t\t\t\t\t\t\t\t\t\n",
        "\tchunks = None\t\t\t\t\t\t\t\t\t\t\t  \n",
        "\tinitial = None\t\t\t\t\t\t\t\t\t\t\t  \n",
        "\tdata = None\t\t\t\t\t\t\t\t\t\t\t     \n",
        "\tdimensions = None\t\t\t\t\t\t\t\t\t\t \n",
        "\tnum_points = None\t\t\t\t\t\t\t\t\t\t  \n",
        "\tcluster= None\t\t\t\t\t\t\t\t\t\t\t \n",
        "\tQ_clust= None\t\t\t\t\t\t\t\t\t\t\t \n",
        "\tnum_clusters= None\t\t\t\t\t\t\t\t\t\n",
        "\tcentroid=None\n",
        "\tkmeans= None\n",
        "\tstart_time=None\n",
        "\t\n",
        "start_time=comm.bcast(start_time,root=0)\n",
        "\n",
        "#send chunks of data set to the workers\n",
        "data=comm.scatter(chunks, root=0)\t\t\t\t\t\t\t  \n",
        "num_clusters=comm.bcast(num_clusters,root=0)\n",
        "\n",
        "#send centroid matrix to the workers\n",
        "initial=comm.bcast(initial, root = 0)\t\t\t\t\t\t  \n",
        "flag= True\n",
        "\n",
        "while flag==True:\n",
        "\tclusters=[]\t\t\t\t\t\t\t\t\t\t\t  \t\t  #initilize variable\n",
        "\tcluster=[]\n",
        "\t# Calculating dist matrix in each process\n",
        "\tdist =np.zeros((len(data),len(initial)))\n",
        "\n",
        "\n",
        "\tfor j in range(len(initial)):\n",
        "\t\tfor i in range(len(data)):\n",
        "\t\t\tdist[i][j]=np.linalg.norm(initial[j]-data[i])\t\n",
        "\t# Initilize lable for each sample in each process\n",
        "\n",
        "\t#iterable take each raw in dist matrix and \n",
        "\tfor i in range (len(dist)):\t\t\t\t\t\t\t\t\t\n",
        "\t\tclusters.append(np.argmin(dist[i])+1)                      \n",
        "\t#print(\"find column index of min value (the index is the number of centorud)\")\n",
        "\t#print(clusters)\n",
        " \n",
        "\t#Calculating the number of samples in each cluster\n",
        "\tQ_clusts=collections.Counter(clusters)\t\n",
        " \t\t\t\t\t\t\n",
        "\t# Summing the number of samples for each cluster\n",
        "\tcounterSumOp = MPI.Op.Create(addCounter, commute=True)\n",
        "\n",
        "\ttotcounter = comm.allreduce(Q_clusts, op=counterSumOp)\n",
        "\tcomm.Barrier()\n",
        "\t#print('Q',Q_clusts)\n",
        "\t#print('T',totcounter)\n",
        "\n",
        "\t# From each worker we gather cluster vector and join them\n",
        "\tcluster=comm.gather(clusters, root=0)\n",
        "\tcomm.Barrier()\n",
        "\tif rank==0:\n",
        "\t\tcluster=[item for sublist in cluster for item in sublist]\n",
        "\n",
        "\n",
        "\tcentroids=np.zeros((len(initial),len(initial[0])))\n",
        "\tfor k in range (1,num_clusters+1):\n",
        "\t\tindices = [i for i, j in enumerate(clusters) if j == k]\n",
        "\t\tcentroids[k-1]=np.divide((np.sum([data[i] for i in indices], axis=0)).astype(np.float),totcounter[k])\n",
        "\n",
        "\tcentroid=comm.allreduce(centroids,MPI.SUM)\n",
        "\tcomm.Barrier()\n",
        "\t#print('centroids',centroids)\n",
        "\t#print ('initial', initial)\n",
        "\t#print('centroid',centroid)\n",
        "\t\t\n",
        "\t\n",
        "\tif np.all(centroid==initial):\n",
        "\t\tflag=False\n",
        "\t\t#print (\"Execution time %s seconds\" % (time.time() - start_time))\n",
        "\t\t\n",
        "\telse:\n",
        "\t#\tprint ('initial after', initial)\n",
        "\t\tinitial= centroid \n",
        "\tcomm.Barrier()\n",
        "\n",
        "\n",
        "if rank==0:\n",
        "\tprint('final clust vect',cluster)\n",
        "\tprint('libkms clust vect',kmeans)\n",
        "\n",
        "\n",
        "\n",
        "\t\t\t\n",
        "\n",
        "\t\t"
      ]
    },
    {
      "cell_type": "code",
      "execution_count": null,
      "metadata": {
        "id": "-j0Ff3CI-HJQ"
      },
      "outputs": [],
      "source": [
        "cluster_np = np.array(cluster)"
      ]
    },
    {
      "cell_type": "code",
      "execution_count": null,
      "metadata": {
        "id": "VMVGWi408w3J",
        "colab": {
          "base_uri": "https://localhost:8080/"
        },
        "outputId": "ba5a1947-8d5c-4684-e868-3836033ecec1"
      },
      "outputs": [
        {
          "output_type": "execute_result",
          "data": {
            "text/plain": [
              "array([[0.79232069, 0.87240643, 1.        ],\n",
              "       [0.76188172, 0.6918207 , 0.        ]])"
            ]
          },
          "metadata": {},
          "execution_count": 60
        }
      ],
      "source": [
        "centroids"
      ]
    },
    {
      "cell_type": "code",
      "source": [
        "cluster_np"
      ],
      "metadata": {
        "id": "QaTmDZIlIXt9",
        "colab": {
          "base_uri": "https://localhost:8080/"
        },
        "outputId": "00132233-a49e-4f54-f6eb-11de522cd988"
      },
      "execution_count": null,
      "outputs": [
        {
          "output_type": "execute_result",
          "data": {
            "text/plain": [
              "array([2, 2, 2, 2, 1, 1, 2, 2, 1, 1, 1, 1, 1, 2, 1, 2, 2, 1, 1, 2, 1, 1,\n",
              "       1, 1, 1, 2, 1, 2, 2, 1, 2, 1, 1, 2, 2, 2, 2, 2, 1, 1, 2, 1, 2, 2,\n",
              "       1, 2, 2, 2, 1, 2, 2, 2, 1, 1, 1, 2, 2, 1, 1, 2, 1, 2, 2, 1, 1, 2,\n",
              "       2, 1, 2, 2, 1, 1, 1, 2, 1, 2, 1, 1, 1, 2, 1, 2, 2, 2, 1, 1, 1, 2,\n",
              "       2, 1, 2, 1, 1, 2, 1, 2, 2, 1])"
            ]
          },
          "metadata": {},
          "execution_count": 61
        }
      ]
    },
    {
      "cell_type": "code",
      "source": [
        "target_label"
      ],
      "metadata": {
        "id": "ya9Z76pmIf7R",
        "colab": {
          "base_uri": "https://localhost:8080/"
        },
        "outputId": "099ba526-5799-4be1-8aee-792f60615e76"
      },
      "execution_count": null,
      "outputs": [
        {
          "output_type": "execute_result",
          "data": {
            "text/plain": [
              "array([0., 1., 0., 0., 0., 0., 1., 0., 0., 0., 1., 0., 0., 0., 1., 0., 0.,\n",
              "       0., 0., 0., 1., 1., 0., 1., 1., 0., 0., 0., 0., 0., 0., 0., 0., 0.,\n",
              "       0., 0., 0., 0., 0., 1., 0., 0., 1., 0., 0., 0., 0., 1., 1., 1., 0.,\n",
              "       0., 0., 0., 0., 0., 0., 0., 0., 0., 1., 0., 0., 0., 0., 0., 0., 0.,\n",
              "       1., 1., 0., 0., 1., 1., 1., 0., 0., 1., 0., 0., 0., 1., 0., 1., 0.,\n",
              "       0., 1., 0., 0., 1., 0., 0., 1., 0., 0., 0., 0., 1.])"
            ]
          },
          "metadata": {},
          "execution_count": 62
        }
      ]
    },
    {
      "cell_type": "markdown",
      "source": [
        "# Results"
      ],
      "metadata": {
        "id": "Vf9cPEsvEdcq"
      }
    },
    {
      "cell_type": "markdown",
      "source": [
        "## Parallel K-Means"
      ],
      "metadata": {
        "id": "q68dXXazEf3W"
      }
    },
    {
      "cell_type": "code",
      "execution_count": null,
      "metadata": {
        "id": "KElUMSIX-SxC",
        "colab": {
          "base_uri": "https://localhost:8080/"
        },
        "outputId": "8ff8ace8-ab2e-44cb-a0dc-b7297815ad3b"
      },
      "outputs": [
        {
          "output_type": "execute_result",
          "data": {
            "text/plain": [
              "<function matplotlib.pyplot.colorbar>"
            ]
          },
          "metadata": {},
          "execution_count": 63
        },
        {
          "output_type": "display_data",
          "data": {
            "image/png": "[encoded data removed]",
            "text/plain": [
              "<Figure size 432x288 with 1 Axes>"
            ]
          },
          "metadata": {
            "needs_background": "light"
          }
        }
      ],
      "source": [
        "#data_np = data.to_numpy()\n",
        "plt.scatter(data[:,0], data[:,1], c=cluster_np[:] )\n",
        "plt.scatter(centroids[0][0],centroids[0][1], c = 'red')\n",
        "plt.scatter(centroids[1][0],centroids[1][1], c = 'blue')\n",
        "plt.title(\"Depression_Parallel\")\n",
        "plt.colorbar"
      ]
    },
    {
      "cell_type": "markdown",
      "source": [
        "## Original Labels"
      ],
      "metadata": {
        "id": "_dj4kuOAEi8M"
      }
    },
    {
      "cell_type": "code",
      "execution_count": null,
      "metadata": {
        "id": "BLO_KjRM68rT",
        "colab": {
          "base_uri": "https://localhost:8080/"
        },
        "outputId": "9081ff1c-9eff-4377-a882-61646a97ad62"
      },
      "outputs": [
        {
          "output_type": "execute_result",
          "data": {
            "text/plain": [
              "<function matplotlib.pyplot.colorbar>"
            ]
          },
          "metadata": {},
          "execution_count": 64
        },
        {
          "output_type": "display_data",
          "data": {
            "image/png": "[encoded data removed]",
            "text/plain": [
              "<Figure size 432x288 with 1 Axes>"
            ]
          },
          "metadata": {
            "needs_background": "light"
          }
        }
      ],
      "source": [
        "plt.scatter(data[:,0], data[:,1], c=target_label )\n",
        "plt.title(\"Depression_Original\")\n",
        "plt.colorbar"
      ]
    },
    {
      "cell_type": "markdown",
      "source": [
        "## Correct number"
      ],
      "metadata": {
        "id": "L-HSRX0YIKTL"
      }
    },
    {
      "cell_type": "code",
      "source": [
        "score = 0\n",
        "(nums, values)= data.shape\n",
        "for i in cluster_np:\n",
        "  if cluster_np[i] * 1.0 == target_label[i] +1:\n",
        "    score = score + 1\n",
        "\n",
        "score = score/nums \n",
        "print(\"the accuracy of this model is (Parallel K-Means/Original labels): {}\".format(score))"
      ],
      "metadata": {
        "id": "sTT_zC8JIJwN",
        "colab": {
          "base_uri": "https://localhost:8080/"
        },
        "outputId": "7e2d9586-2565-4a32-b86a-12dd49239166"
      },
      "execution_count": null,
      "outputs": [
        {
          "output_type": "stream",
          "name": "stdout",
          "text": [
            "the accuracy of this model is (Parallel K-Means/Original labels): 0.5\n"
          ]
        }
      ]
    },
    {
      "cell_type": "code",
      "source": [
        "scores.append(score)\n",
        "scores"
      ],
      "metadata": {
        "id": "18eKjA5ZLAkh",
        "colab": {
          "base_uri": "https://localhost:8080/"
        },
        "outputId": "81dae241-7b29-4103-84d4-525b016e087b"
      },
      "execution_count": null,
      "outputs": [
        {
          "output_type": "execute_result",
          "data": {
            "text/plain": [
              "[0.7244897959183674, 0.5]"
            ]
          },
          "metadata": {},
          "execution_count": 66
        }
      ]
    }
  ],
  "metadata": {
    "colab": {
      "collapsed_sections": [
        "IUYa6kckLv3L",
        "8BwIrEJhLv3M",
        "rpyYN3mHLv3N",
        "MVYvB0CnkKvv",
        "WZwvxEMNBm3_"
      ],
      "name": "COMP5704_Project",
      "provenance": []
    },
    "kernelspec": {
      "display_name": "Python 3",
      "name": "python3"
    },
    "language_info": {
      "name": "python"
    }
  },
  "nbformat": 4,
  "nbformat_minor": 0
}